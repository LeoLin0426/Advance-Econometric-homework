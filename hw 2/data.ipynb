{
 "cells": [
  {
   "cell_type": "code",
   "execution_count": 5,
   "metadata": {},
   "outputs": [],
   "source": [
    "import pandas as pd\n",
    "\n",
    "# 输入文本文件路径和输出CSV文件路径\n",
    "input_file = r'cps09mar.txt'\n",
    "output_file = r'cps09ma.csv'"
   ]
  },
  {
   "cell_type": "code",
   "execution_count": 6,
   "metadata": {},
   "outputs": [
    {
     "name": "stdout",
     "output_type": "stream",
     "text": [
      "文本文件已成功转换为CSV文件！\n"
     ]
    }
   ],
   "source": [
    "# 读取文本文件\n",
    "# 假设文本文件是用制表符分隔的，可以根据实际情况调整`sep`参数\n",
    "df = pd.read_csv(input_file, sep='\\t', header=None)  # 如果没有标题行，设置header=None\n",
    "\n",
    "# 将DataFrame保存为CSV文件\n",
    "df.to_csv(output_file, index=False, encoding='utf-8')\n",
    "\n",
    "print(\"文本文件已成功转换为CSV文件！\")"
   ]
  }
 ],
 "metadata": {
  "kernelspec": {
   "display_name": "base",
   "language": "python",
   "name": "python3"
  },
  "language_info": {
   "codemirror_mode": {
    "name": "ipython",
    "version": 3
   },
   "file_extension": ".py",
   "mimetype": "text/x-python",
   "name": "python",
   "nbconvert_exporter": "python",
   "pygments_lexer": "ipython3",
   "version": "3.12.3"
  }
 },
 "nbformat": 4,
 "nbformat_minor": 2
}
